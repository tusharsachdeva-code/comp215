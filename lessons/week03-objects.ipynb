{
  "nbformat": 4,
  "nbformat_minor": 0,
  "metadata": {
    "kernelspec": {
      "display_name": "Python 3",
      "language": "python",
      "name": "python3"
    },
    "language_info": {
      "codemirror_mode": {
        "name": "ipython",
        "version": 2
      },
      "file_extension": ".py",
      "mimetype": "text/x-python",
      "name": "python",
      "nbconvert_exporter": "python",
      "pygments_lexer": "ipython2",
      "version": "2.7.6"
    },
    "colab": {
      "provenance": [],
      "include_colab_link": true
    }
  },
  "cells": [
    {
      "cell_type": "markdown",
      "metadata": {
        "id": "view-in-github",
        "colab_type": "text"
      },
      "source": [
        "<a href=\"https://colab.research.google.com/github/Hamilton-at-CapU/comp215/blob/main/lessons/week03-objects.ipynb\" target=\"_parent\"><img src=\"https://colab.research.google.com/assets/colab-badge.svg\" alt=\"Open In Colab\"/></a>"
      ]
    },
    {
      "cell_type": "markdown",
      "source": [
        "# Classes and Objects\n",
        "Our week 3 lesson workbook, available on Github from the Hamilton-at-CapU/comp215 repository.\n",
        "\n",
        "As usual, the first code block just imports the modules we will use."
      ],
      "metadata": {
        "id": "WBMC0GrjNRTM"
      }
    },
    {
      "cell_type": "code",
      "execution_count": 1,
      "outputs": [],
      "source": [
        "import math\n",
        "import random\n",
        "\n",
        "import matplotlib.pyplot as plt\n",
        "from pprint import pprint"
      ],
      "metadata": {
        "pycharm": {
          "name": "#%%\n"
        },
        "id": "Xuhr0Iqrkl7M",
        "ExecuteTime": {
          "end_time": "2023-12-31T02:31:58.997602Z",
          "start_time": "2023-12-31T02:31:58.976539Z"
        }
      }
    },
    {
      "cell_type": "markdown",
      "source": [
        "### Everything in `python` is an `object`\n",
        "  * and every `object` has a `type`\n",
        "    * use `type(object)` to learn the type of an object\n",
        "    * a `class` is used to define a `type`\n",
        "  * even a `function` is an `object`\n",
        "  * an `object` has attributes, you can just add new attributes to any object (but don't!)\n",
        "\n",
        "A little code to demonstrate..."
      ],
      "metadata": {
        "collapsed": false,
        "id": "VfBdNa_id2Ge"
      }
    },
    {
      "cell_type": "code",
      "execution_count": 6,
      "outputs": [
        {
          "output_type": "stream",
          "name": "stdout",
          "text": [
            "<class 'dict'>\n",
            "5\n",
            "<class 'function'>\n",
            "<class 'type'>\n"
          ]
        },
        {
          "output_type": "execute_result",
          "data": {
            "text/plain": [
              "'foo'"
            ],
            "application/vnd.google.colaboratory.intrinsic+json": {
              "type": "string"
            }
          },
          "metadata": {},
          "execution_count": 6
        }
      ],
      "source": [
        "# demo code\n",
        "type(print)\n",
        "\n",
        "dictionary = {'a':1, 'b':2}\n",
        "print(type(dictionary))\n",
        "\n",
        "def foo():\n",
        "  return 'foo'\n",
        "\n",
        "class Foo:\n",
        "  def __init__(self):\n",
        "    self.x = 0\n",
        "\n",
        "f = Foo()\n",
        "f.y = 5\n",
        "print(f.y)\n",
        "\n",
        "print(type(foo))\n",
        "print(type(Foo))\n",
        "\n",
        "def foobar(func):\n",
        "  return func()\n",
        "\n",
        "foobar(foo)"
      ],
      "metadata": {
        "ExecuteTime": {
          "end_time": "2023-12-31T02:31:59.009106Z",
          "start_time": "2023-12-31T02:31:58.997351Z"
        },
        "id": "yF38Jg-Gd2Gf",
        "outputId": "2920a579-6d5e-4931-c281-64567eff588b",
        "colab": {
          "base_uri": "https://localhost:8080/",
          "height": 104
        }
      }
    },
    {
      "cell_type": "markdown",
      "source": [
        "## Problem: Collision detection using circles\n",
        "A `class` is just a collection of `functions` that all work on the same piece of `data structure`.\n",
        "\n",
        "The `data structure` is defined by the class's `instance variables`.\n",
        "\n",
        "Easiest to understand if we do an example - let's define a `Circle` object type..."
      ],
      "metadata": {
        "collapsed": false,
        "id": "9kidyXF4kl7N"
      }
    },
    {
      "cell_type": "code",
      "execution_count": 10,
      "outputs": [],
      "source": [
        "class Circle:\n",
        "    \"\"\" Representation for the data and operations on a circle \"\"\"\n",
        "\n",
        "    def __init__(self, center:tuple, radius:float):\n",
        "      self.center = center\n",
        "      self.radius = radius\n",
        "\n",
        "    def getRadius(self):\n",
        "      \"\"\" Return the radius of this circle \"\"\"\n",
        "      return self.radius\n",
        "\n",
        "    def getCenter(self):\n",
        "      \"\"\" Return the center of this circle \"\"\"\n",
        "      return self.center\n",
        "\n",
        "    def getCenterX(self):\n",
        "      \"\"\" Return the x center of this circle \"\"\"\n",
        "      return self.center[0]\n",
        "\n",
        "    def getCenterY(self):\n",
        "      \"\"\" Return the y center of this circle \"\"\"\n",
        "      return self.center[1]\n",
        "\n",
        "    def area(self):\n",
        "      \"\"\" Return the area of this circle \"\"\"\n",
        "      return math.pi*self.radius**2\n",
        "\n",
        "    def move(self, offset):\n",
        "      \"\"\" Move this circle by given (x,y) offset \"\"\"\n",
        "      self.center = (self.center[0]+offset[0], self.center[1]+offset[1])\n",
        "\n",
        "    def distance_center(self, other):\n",
        "      \"\"\" Return the distance between this circle center and the other one \"\"\"\n",
        "      return math.sqrt( (self.center[0] - other.getCenterX())**2 + (self.center[1] - other.getCenterY())**2 )\n",
        "\n",
        "    def distance_edge(self, other):\n",
        "      \"\"\" Return the distance between this circle edge and the other one \"\"\"\n",
        "      return self.distance_center(other) - (self.radius + other.getRadius())\n",
        "\n",
        "    def intersects(self, other):\n",
        "      \"\"\" Return True iff this circle intersects the other one \"\"\"\n",
        "      return self.distance_edge(other) <= 0\n",
        ""
      ],
      "metadata": {
        "pycharm": {
          "name": "#%%\n"
        },
        "id": "JzVlJnx0kl7O",
        "ExecuteTime": {
          "end_time": "2023-12-31T02:31:59.009328Z",
          "start_time": "2023-12-31T02:31:59.002235Z"
        }
      }
    },
    {
      "cell_type": "code",
      "execution_count": 11,
      "outputs": [],
      "source": [
        "# Test Circle class\n",
        "c1 = Circle((1,1),2)\n",
        "c2 = Circle((2,2),3)\n",
        "\n",
        "assert c1.getRadius() == 2\n",
        "assert c1.intersects(c2) == True"
      ],
      "metadata": {
        "pycharm": {
          "name": "#%%\n"
        },
        "id": "yAie8rLAkl7P",
        "ExecuteTime": {
          "end_time": "2023-12-31T02:31:59.025360Z",
          "start_time": "2023-12-31T02:31:59.011556Z"
        }
      }
    },
    {
      "cell_type": "markdown",
      "source": [
        "## Problem:  Counting\n",
        "When conducting an experiment, it is common to count occurances.  For example\n",
        "\n",
        "* in a physics experiment, we might count the number of atomic collisions in which certain sub-atomic particles were produced\n",
        "* in biology, we might count the number of cells infected by a virus after a fixed time period\n",
        "* in a computational experiment, we might count the frequency with which clusters of a give size form\n",
        "\n",
        "To visualize such experimental results, we would generally plot a histogram, like this:\n"
      ],
      "metadata": {
        "collapsed": false,
        "id": "KgcBUGH4kl7Q"
      }
    },
    {
      "cell_type": "code",
      "source": [
        "# Experiment: Get the age distribution for Cap students\n",
        "n_cap_students = 11500\n",
        "\n",
        "# Simulate getting the age for one Cap student\n",
        "def get_age(student_id):\n",
        "    return int(random.normalvariate(mu=24, sigma=4))  # Normally distributed age with mean of 24 years\n",
        "\n",
        "# Run experiment to obtain the age for each student\n",
        "data = [get_age(id) for id in range(n_cap_students)]\n",
        "\n",
        "# count the number of students in each age class\n",
        "histogram = {}\n",
        "for age in data:\n",
        "    histogram[age] = histogram.get(age, 0) + 1\n",
        "\n",
        "# configure a plot to draw the bar chart in\n",
        "_, ax = plt.subplots()\n",
        "ax.set(\n",
        "    title=\"Age distribution for Cap Students\",\n",
        "    xlabel='Age (years)',\n",
        "    ylabel='Count',\n",
        ")\n",
        "\n",
        "# plot a histogram of the data, divided into n \"equal width\" bins\n",
        "ax.bar(histogram.keys(), histogram.values())\n",
        "plt.show()"
      ],
      "metadata": {
        "id": "HZSz8IftqJ72",
        "outputId": "7f4d4d0c-b1e8-406b-a7c7-c99e1611750a",
        "colab": {
          "base_uri": "https://localhost:8080/",
          "height": 472
        },
        "ExecuteTime": {
          "end_time": "2023-12-31T02:33:02.083690Z",
          "start_time": "2023-12-31T02:33:01.998264Z"
        }
      },
      "execution_count": 12,
      "outputs": [
        {
          "output_type": "display_data",
          "data": {
            "text/plain": [
              "<Figure size 640x480 with 1 Axes>"
            ],
            "image/png": "[encoded data removed]"
          },
          "metadata": {}
        }
      ]
    },
    {
      "cell_type": "markdown",
      "source": [
        "## Custom Histogram Class\n",
        "\n",
        "Define our own historgram class that serves as a \"wrapper\" for clunky pyplot ax.hist"
      ],
      "metadata": {
        "id": "naDVayQLkznK"
      }
    },
    {
      "cell_type": "code",
      "source": [
        "class Histogram:\n",
        "    \"\"\" A simple histogram with a nice API \"\"\"\n",
        "    def __init__(self, title, xlabel='Categories', ylabel='Count'):\n",
        "        _, ax = plt.subplots()\n",
        "        ax.set(\n",
        "            title=title,\n",
        "            xlabel=xlabel,\n",
        "            ylabel=ylabel,\n",
        "        )\n",
        "        self.ax = ax\n",
        "        self.counts = {}\n",
        "\n",
        "    def count(self, category):\n",
        "        self.counts[category] = self.counts.get(category, 0) + 1\n",
        "\n",
        "    def plot(self):\n",
        "        self.ax.bar(self.counts.keys(), self.counts.values())\n",
        "        plt.show()"
      ],
      "metadata": {
        "id": "Ai9qb3Bolw4h",
        "ExecuteTime": {
          "end_time": "2023-12-31T02:31:59.205268Z",
          "start_time": "2023-12-31T02:31:59.157995Z"
        }
      },
      "execution_count": 13,
      "outputs": []
    },
    {
      "cell_type": "markdown",
      "source": [
        "### The Power of Abstraction\n",
        "\n",
        "The real benefits appear when we go to use this class to solve the original problem.\n",
        "\n",
        "Notice how creating an \"abstraction\" for a histogram makes it much easier to understand what the computation is doing.  Also notice, the class is \"reusable\" - we can now deploy this abstraction any time we need a histogram!"
      ],
      "metadata": {
        "collapsed": false,
        "id": "FxqaorNTd2Gg"
      }
    },
    {
      "cell_type": "code",
      "execution_count": 14,
      "outputs": [
        {
          "output_type": "display_data",
          "data": {
            "text/plain": [
              "<Figure size 640x480 with 1 Axes>"
            ],
            "image/png": "[encoded data removed]"
          },
          "metadata": {}
        }
      ],
      "source": [
        "hist = Histogram(title='Age Distribution for Cap Students', xlabel='Age (years)')\n",
        "for id in range(n_cap_students):\n",
        "    hist.count(get_age(id))\n",
        "hist.plot()"
      ],
      "metadata": {
        "pycharm": {
          "name": "#%%\n"
        },
        "id": "QxLQc9nokl7T",
        "outputId": "55bfcb2c-d7d0-40de-b42d-dc3c6851b58a",
        "colab": {
          "base_uri": "https://localhost:8080/",
          "height": 472
        },
        "ExecuteTime": {
          "end_time": "2023-12-31T02:31:59.277250Z",
          "start_time": "2023-12-31T02:31:59.164409Z"
        }
      }
    },
    {
      "cell_type": "code",
      "execution_count": null,
      "outputs": [],
      "source": [],
      "metadata": {
        "pycharm": {
          "name": "#%%\n"
        },
        "id": "-y3O-TIYkl7T",
        "ExecuteTime": {
          "end_time": "2023-12-31T02:31:59.287332Z",
          "start_time": "2023-12-31T02:31:59.279539Z"
        }
      }
    },
    {
      "cell_type": "markdown",
      "source": [
        "# Scatter plot\n",
        "Create a Scatter class that abstracts the creation of a scatter plot..."
      ],
      "metadata": {
        "id": "sx8I1vjtF8_i"
      }
    }
  ]
}